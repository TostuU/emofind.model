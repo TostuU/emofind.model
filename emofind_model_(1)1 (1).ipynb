{
  "cells": [
    {
      "cell_type": "code",
      "execution_count": 14,
      "metadata": {
        "id": "RM4E-PyUMLu_"
      },
      "outputs": [],
      "source": [
        "# Importar las librerias.\n",
        "import tensorflow as tf\n",
        "from tensorflow import keras\n",
        "from tensorflow.keras.preprocessing.text import Tokenizer\n",
        "from tensorflow.keras.preprocessing.sequence import pad_sequences\n",
        "import pandas as pd\n",
        "import numpy as np\n",
        "import re\n",
        "import pickle"
      ]
    },
    {
      "cell_type": "code",
      "source": [
        "tf.__version__"
      ],
      "metadata": {
        "colab": {
          "base_uri": "https://localhost:8080/",
          "height": 36
        },
        "id": "TSp-LAj63N2o",
        "outputId": "c79dc4a9-75f3-415c-ec1a-ae79d126afb1"
      },
      "execution_count": 6,
      "outputs": [
        {
          "output_type": "execute_result",
          "data": {
            "text/plain": [
              "'2.18.0'"
            ],
            "application/vnd.google.colaboratory.intrinsic+json": {
              "type": "string"
            }
          },
          "metadata": {},
          "execution_count": 6
        }
      ]
    },
    {
      "cell_type": "code",
      "source": [
        "np.__version__"
      ],
      "metadata": {
        "colab": {
          "base_uri": "https://localhost:8080/",
          "height": 36
        },
        "id": "jFK-wMwa3ZlW",
        "outputId": "91e40912-9e94-4b4b-d554-c9c1693b9622"
      },
      "execution_count": 7,
      "outputs": [
        {
          "output_type": "execute_result",
          "data": {
            "text/plain": [
              "'2.0.2'"
            ],
            "application/vnd.google.colaboratory.intrinsic+json": {
              "type": "string"
            }
          },
          "metadata": {},
          "execution_count": 7
        }
      ]
    },
    {
      "cell_type": "code",
      "source": [
        "# Cargar conjunto de datos\n",
        "dataset_path = \"/content/sample_data/training.1600000.processed.noemoticon.csv\"\n",
        "df = pd.read_csv(dataset_path, encoding='latin1', header=None)\n",
        "df.columns = [\"target\", \"ids\", \"date\", \"flag\", \"user\", \"text\"]"
      ],
      "metadata": {
        "id": "9p5DGPxuO_r1"
      },
      "execution_count": 15,
      "outputs": []
    },
    {
      "cell_type": "code",
      "source": [
        "#Pre procesar el texto\n",
        "def preprocess_data(df):\n",
        "    df = df[[\"target\", \"text\"]].copy()\n",
        "    df[\"target\"] = df[\"target\"].replace({0: 0, 4: 2})  # 0: Negativo, 2: Positivo\n",
        "\n",
        "    # Limpiar texto\n",
        "    def clean_text(text):\n",
        "        text = text.lower()\n",
        "        text = re.sub(r'http\\S+|www\\S+', '', text)  # Eliminar URLs\n",
        "        text = re.sub(r'@\\w+', '', text)  # Eliminar menciones\n",
        "        text = re.sub(r'[^a-zA-Z\\s]', '', text)  # Eliminar caracteres especiales\n",
        "        text = re.sub(r'\\s+', ' ', text).strip()  # Espacios adicionales\n",
        "        return text\n",
        "\n",
        "    df[\"text\"] = df[\"text\"].apply(clean_text)\n",
        "    return df"
      ],
      "metadata": {
        "id": "OYLWhMWMRL26"
      },
      "execution_count": 16,
      "outputs": []
    },
    {
      "cell_type": "code",
      "source": [
        "df = preprocess_data(df)"
      ],
      "metadata": {
        "id": "hoXh9lZ3RSIx"
      },
      "execution_count": 17,
      "outputs": []
    },
    {
      "cell_type": "code",
      "source": [
        "# Tokenización y secuencias\n",
        "max_words = 10000  # Número máximo de palabras en el vocabulario\n",
        "max_len = 30  # Longitud máxima de las secuencias"
      ],
      "metadata": {
        "id": "BtW5dWSZRZ1q"
      },
      "execution_count": 18,
      "outputs": []
    },
    {
      "cell_type": "code",
      "source": [
        "tokenizer = Tokenizer(num_words=max_words, oov_token=\"<OOV>\")\n",
        "tokenizer.fit_on_texts(df[\"text\"])\n",
        "sequences = tokenizer.texts_to_sequences(df[\"text\"])\n",
        "padded_sequences = pad_sequences(sequences, maxlen=max_len, padding='post')"
      ],
      "metadata": {
        "id": "RDc3DNzYRbPZ"
      },
      "execution_count": 19,
      "outputs": []
    },
    {
      "cell_type": "code",
      "source": [
        "# Guardar el tokenizer\n",
        "with open(\"tokenizer.pkl\", \"wb\") as handle:\n",
        "    pickle.dump(tokenizer, handle, protocol=pickle.HIGHEST_PROTOCOL)"
      ],
      "metadata": {
        "id": "6N3HsjObv9CZ"
      },
      "execution_count": 20,
      "outputs": []
    },
    {
      "cell_type": "code",
      "source": [
        "# Separar datos en entrenamiento y prueba\n",
        "labels = np.array(df[\"target\"])\n",
        "train_size = int(len(df) * 0.8)\n",
        "X_train, X_test = padded_sequences[:train_size], padded_sequences[train_size:]\n",
        "y_train, y_test = labels[:train_size], labels[train_size:]"
      ],
      "metadata": {
        "id": "HeFawwUvRdCK"
      },
      "execution_count": 21,
      "outputs": []
    },
    {
      "cell_type": "code",
      "source": [
        "# Definir el modelo\n",
        "def create_model():\n",
        "    model = keras.Sequential([\n",
        "        keras.layers.Embedding(max_words, 64),\n",
        "        keras.layers.LSTM(64, return_sequences=True),\n",
        "        keras.layers.LSTM(32),\n",
        "        keras.layers.Dense(16, activation='relu'),\n",
        "        keras.layers.Dense(3, activation='softmax')  # 3 clases\n",
        "    ])\n",
        "\n",
        "    model.compile(loss='sparse_categorical_crossentropy',\n",
        "                  optimizer='adam',\n",
        "                  metrics=['accuracy'])\n",
        "    return model"
      ],
      "metadata": {
        "id": "3fvEB_F8R95x"
      },
      "execution_count": 22,
      "outputs": []
    },
    {
      "cell_type": "code",
      "source": [
        "model = create_model()"
      ],
      "metadata": {
        "id": "q58ywtpDR_TS"
      },
      "execution_count": 23,
      "outputs": []
    },
    {
      "cell_type": "code",
      "source": [
        "model.fit(X_train, y_train, epochs=15, batch_size=128, validation_data=(X_test, y_test))"
      ],
      "metadata": {
        "id": "-dYJNX4DSAPJ",
        "colab": {
          "base_uri": "https://localhost:8080/"
        },
        "outputId": "eabbe24b-fc8a-4d9b-f571-b39ca931abec"
      },
      "execution_count": 24,
      "outputs": [
        {
          "output_type": "stream",
          "name": "stdout",
          "text": [
            "Epoch 1/15\n",
            "\u001b[1m10000/10000\u001b[0m \u001b[32m━━━━━━━━━━━━━━━━━━━━\u001b[0m\u001b[37m\u001b[0m \u001b[1m96s\u001b[0m 9ms/step - accuracy: 0.7809 - loss: 0.4589 - val_accuracy: 0.7069 - val_loss: 0.6399\n",
            "Epoch 2/15\n",
            "\u001b[1m10000/10000\u001b[0m \u001b[32m━━━━━━━━━━━━━━━━━━━━\u001b[0m\u001b[37m\u001b[0m \u001b[1m140s\u001b[0m 9ms/step - accuracy: 0.8369 - loss: 0.3649 - val_accuracy: 0.7919 - val_loss: 0.4485\n",
            "Epoch 3/15\n",
            "\u001b[1m10000/10000\u001b[0m \u001b[32m━━━━━━━━━━━━━━━━━━━━\u001b[0m\u001b[37m\u001b[0m \u001b[1m141s\u001b[0m 9ms/step - accuracy: 0.8470 - loss: 0.3453 - val_accuracy: 0.7607 - val_loss: 0.5033\n",
            "Epoch 4/15\n",
            "\u001b[1m10000/10000\u001b[0m \u001b[32m━━━━━━━━━━━━━━━━━━━━\u001b[0m\u001b[37m\u001b[0m \u001b[1m144s\u001b[0m 9ms/step - accuracy: 0.8553 - loss: 0.3296 - val_accuracy: 0.7400 - val_loss: 0.5620\n",
            "Epoch 5/15\n",
            "\u001b[1m10000/10000\u001b[0m \u001b[32m━━━━━━━━━━━━━━━━━━━━\u001b[0m\u001b[37m\u001b[0m \u001b[1m141s\u001b[0m 9ms/step - accuracy: 0.8635 - loss: 0.3144 - val_accuracy: 0.7321 - val_loss: 0.6015\n",
            "Epoch 6/15\n",
            "\u001b[1m10000/10000\u001b[0m \u001b[32m━━━━━━━━━━━━━━━━━━━━\u001b[0m\u001b[37m\u001b[0m \u001b[1m141s\u001b[0m 9ms/step - accuracy: 0.8714 - loss: 0.2988 - val_accuracy: 0.7590 - val_loss: 0.5309\n",
            "Epoch 7/15\n",
            "\u001b[1m10000/10000\u001b[0m \u001b[32m━━━━━━━━━━━━━━━━━━━━\u001b[0m\u001b[37m\u001b[0m \u001b[1m91s\u001b[0m 9ms/step - accuracy: 0.8790 - loss: 0.2830 - val_accuracy: 0.7143 - val_loss: 0.6583\n",
            "Epoch 8/15\n",
            "\u001b[1m10000/10000\u001b[0m \u001b[32m━━━━━━━━━━━━━━━━━━━━\u001b[0m\u001b[37m\u001b[0m \u001b[1m136s\u001b[0m 9ms/step - accuracy: 0.8866 - loss: 0.2693 - val_accuracy: 0.7111 - val_loss: 0.6820\n",
            "Epoch 9/15\n",
            "\u001b[1m10000/10000\u001b[0m \u001b[32m━━━━━━━━━━━━━━━━━━━━\u001b[0m\u001b[37m\u001b[0m \u001b[1m93s\u001b[0m 9ms/step - accuracy: 0.8927 - loss: 0.2554 - val_accuracy: 0.7282 - val_loss: 0.6560\n",
            "Epoch 10/15\n",
            "\u001b[1m10000/10000\u001b[0m \u001b[32m━━━━━━━━━━━━━━━━━━━━\u001b[0m\u001b[37m\u001b[0m \u001b[1m141s\u001b[0m 9ms/step - accuracy: 0.8991 - loss: 0.2427 - val_accuracy: 0.7280 - val_loss: 0.6791\n",
            "Epoch 11/15\n",
            "\u001b[1m10000/10000\u001b[0m \u001b[32m━━━━━━━━━━━━━━━━━━━━\u001b[0m\u001b[37m\u001b[0m \u001b[1m89s\u001b[0m 9ms/step - accuracy: 0.9047 - loss: 0.2305 - val_accuracy: 0.7442 - val_loss: 0.6603\n",
            "Epoch 12/15\n",
            "\u001b[1m10000/10000\u001b[0m \u001b[32m━━━━━━━━━━━━━━━━━━━━\u001b[0m\u001b[37m\u001b[0m \u001b[1m138s\u001b[0m 9ms/step - accuracy: 0.9086 - loss: 0.2207 - val_accuracy: 0.7048 - val_loss: 0.7882\n",
            "Epoch 13/15\n",
            "\u001b[1m10000/10000\u001b[0m \u001b[32m━━━━━━━━━━━━━━━━━━━━\u001b[0m\u001b[37m\u001b[0m \u001b[1m148s\u001b[0m 9ms/step - accuracy: 0.9130 - loss: 0.2119 - val_accuracy: 0.7364 - val_loss: 0.7209\n",
            "Epoch 14/15\n",
            "\u001b[1m10000/10000\u001b[0m \u001b[32m━━━━━━━━━━━━━━━━━━━━\u001b[0m\u001b[37m\u001b[0m \u001b[1m140s\u001b[0m 9ms/step - accuracy: 0.9172 - loss: 0.2030 - val_accuracy: 0.7486 - val_loss: 0.7228\n",
            "Epoch 15/15\n",
            "\u001b[1m10000/10000\u001b[0m \u001b[32m━━━━━━━━━━━━━━━━━━━━\u001b[0m\u001b[37m\u001b[0m \u001b[1m143s\u001b[0m 9ms/step - accuracy: 0.9193 - loss: 0.1964 - val_accuracy: 0.7242 - val_loss: 0.7926\n"
          ]
        },
        {
          "output_type": "execute_result",
          "data": {
            "text/plain": [
              "<keras.src.callbacks.history.History at 0x7a37bc5757d0>"
            ]
          },
          "metadata": {},
          "execution_count": 24
        }
      ]
    },
    {
      "cell_type": "code",
      "source": [
        "model.save('sentiment_analysis_model.h5')"
      ],
      "metadata": {
        "id": "JztS66zfSBVC",
        "outputId": "2575c648-df9e-40cd-d1ab-e61247915afc",
        "colab": {
          "base_uri": "https://localhost:8080/"
        }
      },
      "execution_count": 25,
      "outputs": [
        {
          "output_type": "stream",
          "name": "stderr",
          "text": [
            "WARNING:absl:You are saving your model as an HDF5 file via `model.save()` or `keras.saving.save_model(model)`. This file format is considered legacy. We recommend using instead the native Keras format, e.g. `model.save('my_model.keras')` or `keras.saving.save_model(model, 'my_model.keras')`. \n"
          ]
        }
      ]
    },
    {
      "cell_type": "code",
      "source": [
        "# Función para predecir emociones en frases personalizadas\n",
        "def predict_sentiment(sentence):\n",
        "    sentence = sentence.lower()\n",
        "    sentence = re.sub(r'http\\S+|www\\S+', '', sentence)\n",
        "    sentence = re.sub(r'@\\w+', '', sentence)\n",
        "    sentence = re.sub(r'[^a-zA-Z\\s]', '', sentence)\n",
        "    sentence = re.sub(r'\\s+', ' ', sentence).strip()\n",
        "    sequence = tokenizer.texts_to_sequences([sentence])\n",
        "    padded_sequence = pad_sequences(sequence, maxlen=max_len, padding='post')\n",
        "    prediction = model.predict(padded_sequence)\n",
        "    sentiment_labels = [\"Negativo\", \"Neutro\", \"Positivo\"]\n",
        "    predicted_class = np.argmax(prediction)\n",
        "    return sentiment_labels[predicted_class]\n",
        "\n",
        "# Probar el modelo con frases personalizadas\n",
        "frases_prueba = [\n",
        "    \"Everything was perfect until i went to work, then my boss made my day awful\",\n",
        "    \"Even though it was kinda salty, it was pretty good\",\n",
        "    \"The movie plot is excellent, but the director kinda makes it trash\",\n",
        "    \"Im so happy i could kill myself\",\n",
        "    \"The food was great!\"\n",
        "]\n",
        "\n",
        "for frase in frases_prueba:\n",
        "    emocion_predicha = predict_sentiment(frase)\n",
        "    print(f\"Frase: {frase}\\nEmoción predicha: {emocion_predicha}\\n\")"
      ],
      "metadata": {
        "id": "YCn7y0MD3eY5",
        "outputId": "867b5d23-dc8c-4e50-dbd6-c4177b33027c",
        "colab": {
          "base_uri": "https://localhost:8080/"
        }
      },
      "execution_count": 32,
      "outputs": [
        {
          "output_type": "stream",
          "name": "stdout",
          "text": [
            "\u001b[1m1/1\u001b[0m \u001b[32m━━━━━━━━━━━━━━━━━━━━\u001b[0m\u001b[37m\u001b[0m \u001b[1m0s\u001b[0m 36ms/step\n",
            "Frase: Everything was perfect until i went to work, then my boss made my day awful\n",
            "Emoción predicha: Negativo\n",
            "\n",
            "\u001b[1m1/1\u001b[0m \u001b[32m━━━━━━━━━━━━━━━━━━━━\u001b[0m\u001b[37m\u001b[0m \u001b[1m0s\u001b[0m 35ms/step\n",
            "Frase: Even though it was kinda salty, it was pretty good\n",
            "Emoción predicha: Positivo\n",
            "\n",
            "\u001b[1m1/1\u001b[0m \u001b[32m━━━━━━━━━━━━━━━━━━━━\u001b[0m\u001b[37m\u001b[0m \u001b[1m0s\u001b[0m 36ms/step\n",
            "Frase: The movie plot is excellent, but the director kinda makes it trash\n",
            "Emoción predicha: Negativo\n",
            "\n",
            "\u001b[1m1/1\u001b[0m \u001b[32m━━━━━━━━━━━━━━━━━━━━\u001b[0m\u001b[37m\u001b[0m \u001b[1m0s\u001b[0m 42ms/step\n",
            "Frase: Im so happy i could kill myself\n",
            "Emoción predicha: Positivo\n",
            "\n",
            "\u001b[1m1/1\u001b[0m \u001b[32m━━━━━━━━━━━━━━━━━━━━\u001b[0m\u001b[37m\u001b[0m \u001b[1m0s\u001b[0m 38ms/step\n",
            "Frase: The food was great!\n",
            "Emoción predicha: Positivo\n",
            "\n"
          ]
        }
      ]
    }
  ],
  "metadata": {
    "accelerator": "GPU",
    "colab": {
      "gpuType": "T4",
      "provenance": []
    },
    "kernelspec": {
      "display_name": "Python 3",
      "name": "python3"
    },
    "language_info": {
      "name": "python"
    }
  },
  "nbformat": 4,
  "nbformat_minor": 0
}